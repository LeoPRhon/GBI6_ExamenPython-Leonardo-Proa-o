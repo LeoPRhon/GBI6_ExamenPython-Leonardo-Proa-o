{
 "cells": [
  {
   "cell_type": "markdown",
   "metadata": {},
   "source": [
    "<img src=\"https://www.ikiam.edu.ec/img/logo-ikiam-grey.png\" width=300 height=240 />\n",
    "\n",
    "# EXAMEN PARCIAL PYTHON\n",
    "    \n",
    "\n",
    "## GBI6-2021II: BIOINFORMÁTICA\n",
    "\n",
    "**Proaño Rhon, Leonardo Francisco**\n",
    "\n",
    "**22-02-2022**"
   ]
  },
  {
   "cell_type": "markdown",
   "metadata": {},
   "source": [
    "<font color='red'>NO AGREGUE NUEVAS CELDAS, UTILICE ÚNICAMENTE LAS QUE ESTÁN CREADAS</font>\n"
   ]
  },
  {
   "cell_type": "markdown",
   "metadata": {},
   "source": [
    "### REQUERIMIENTOS PARA EL EXAMEN\n",
    "Para este examen se requiere dos documentos: \n",
    "\n",
    "1. Archivo ```miningscience.py``` donde tendrá dos funciones:\n",
    "\n",
    "2. Archivo ```2021II_GBI6_ExamenParcialPython``` donde se llamará las funciones y se obtendrá resultados."
   ]
  },
  {
   "cell_type": "markdown",
   "metadata": {},
   "source": [
    "## Ejercicio 1 [2 puntos]\n",
    "Cree el archivo ```miningscience.py``` con las siguientes dosfunciones:\n",
    "    \n",
    "i. ```download_pubmed```: para descargar la data de PubMed utilizando el **ENTREZ** de Biopython. El parámetro de entrada para la función es el ```keyword```. \n",
    "    \n",
    "ii. ```mining_pubs```: esta función debe utilizar el módulo **re** y utilizar el párametro ```tipo``` para realizar lo siguiente:\n",
    "        \n",
    "* Si el tipo es \"DP\" recupera el año de publicación del artículo. El retorno es un *dataframe* con el **PMID** y el **DP_year**.\n",
    "      \n",
    "* Si el tipo es \"AU\" recupera el número de autores por **PMID**. El retorno es un *dataframe* con el **PMID** y el **num_auth**. \n",
    "      \n",
    "* Si el tipo es \"AD\" recupera el conteo de autores por país. El retorno es un *dataframe* con el **country** y el **num_auth**. \n",
    "\n",
    "* *Puede utilizar un ```if``` dentro de la función.* \n",
    "\n",
    "* *Cree un docstring para cada función.* \n",
    "\n",
    "Luego de crear las funciones, cargue el módulo ```miningscience``` como ```msc``` e imprima docstring de cada función.\n",
    "\n",
    "\n"
   ]
  },
  {
   "cell_type": "code",
   "execution_count": 55,
   "metadata": {},
   "outputs": [
    {
     "name": "stdout",
     "output_type": "stream",
     "text": [
      "Descripción de l funcion download_pubmed:\n",
      "Help on function download_pubmed in module miningscience:\n",
      "\n",
      "download_pubmed(keyword: str)\n",
      "    Función que permite descargar los ids de PubMed utilizando ENTREZ de Biopython.\n",
      "    El parámtero es la keyword es el término de búsqueda.\n",
      "\n",
      "Descripción de la funcion mining_pubs:\n",
      "Help on function mining_pubs in module miningscience:\n",
      "\n",
      "mining_pubs(tipo: str) -> pandas.core.frame.DataFrame\n",
      "    Según el parámetro tipo, se descargan los ids de PubMed de la búsqueda:\n",
      "        Si el tipo es \"DP\" recupera el año de publicación del artículo. El retorno es un dataframe con el PMID y el DP_year.\n",
      "        Si el tipo es \"AU\" recupera el número de autores por PMID. El retorno es un dataframe con el PMID y el num_auth.\n",
      "        Si el tipo es \"AD\" recupera el conteo de autores por país. El retorno es un dataframe con el country y el num_auth.\n",
      "\n"
     ]
    }
   ],
   "source": [
    "#%pip install -r requirements.txt\n",
    "%reload_ext autoreload\n",
    "%autoreload 2\n",
    "import importlib\n",
    "import miningscience\n",
    "importlib.reload(miningscience)\n",
    "# Escriba aquí su código para el ejercicio 1\n",
    "import miningscience as msc\n",
    "\n",
    "print(\"Descripción de l funcion download_pubmed:\")\n",
    "help(msc.download_pubmed)\n",
    "\n",
    "print(\"Descripción de la funcion mining_pubs:\")\n",
    "help(msc.mining_pubs)"
   ]
  },
  {
   "cell_type": "markdown",
   "metadata": {},
   "source": [
    "\n",
    "## Ejercicio 2 [1 punto]\n",
    "\n",
    "\n",
    "Utilice la función ```download_pubmed``` para descargar la data con el keyword ```Ecuador proteomics``` e imprima lo siguiente: \n",
    "\n",
    "```python\n",
    "'El número de artículos es: xx' # xx corresponde al número de artículos recuperados\n",
    "\n",
    "'El PMID del primer artículo es: xxxxxxxx' # xxxxxxxx corresponde al ID del artículo en PUDMED\n",
    "\n",
    "```"
   ]
  },
  {
   "cell_type": "code",
   "execution_count": 56,
   "metadata": {},
   "outputs": [
    {
     "name": "stdout",
     "output_type": "stream",
     "text": [
      "El número de artículos es: 193\n",
      "El PMID del primer artículo es: 35121084\n"
     ]
    }
   ],
   "source": [
    "# Ahora escribimos el código para llamar a download_pubmed para descargar la data de Ecuador genomics\n",
    "records = msc.download_pubmed(\"Ecuador genomics\")\n",
    "records_count = records[\"Count\"]\n",
    "first_element_id = records[\"IdList\"][0]\n",
    "print(f\"El número de artículos es: {records_count}\") # xx corresponde al número de artículos recuperados\n",
    "\n",
    "print(f\"El PMID del primer artículo es: {first_element_id}\") # xxxxxxxx corresponde al ID del artículo en PUDMED"
   ]
  },
  {
   "cell_type": "markdown",
   "metadata": {},
   "source": [
    "## Ejercicio 3 [1 punto]\n",
    "\n",
    "Utilice la función ```mining_pubs``` para crear los siguientes dataframes: \n",
    "\n",
    "* pub_year\n",
    "\n",
    "* pub_authors\n",
    "\n",
    "* coutries\n",
    "\n",
    "Muestre los dos primeros y los dos últimos registros de cada dataframe. "
   ]
  },
  {
   "cell_type": "code",
   "execution_count": 57,
   "metadata": {},
   "outputs": [
    {
     "name": "stdout",
     "output_type": "stream",
     "text": [
      "Dataframe de articulos con año:\n",
      "       PMID  DP_year\n",
      "0  35121084     2022\n",
      "1  35120121     2022\n",
      "         PMID  DP_year\n",
      "191  17187350     2007\n",
      "192   8661097     1996\n",
      "-------------------------------------------\n",
      "\n",
      "Dataframe de articulos con autores:\n",
      "       PMID  num_auth\n",
      "0  35121084        12\n",
      "1  35120121        14\n",
      "         PMID  num_auth\n",
      "189  19177531         7\n",
      "190  19018989         1\n",
      "-------------------------------------------\n",
      "\n",
      "Dataframe de número de articulos por pais:\n",
      "         country  num_auth\n",
      "0  United States        12\n",
      "1  United States        14\n",
      "           country  num_auth\n",
      "190        England         1\n",
      "191  United States         9\n"
     ]
    }
   ],
   "source": [
    "# Para el ejercicio 3 se utilizó la función mining_pubs para crear dataframes de pub_year, pub_authors y countries\n",
    "print(\"Dataframe de articulos con año:\")\n",
    "df_pub_year = msc.mining_pubs(\"DP\")\n",
    "print(df_pub_year.head(2))\n",
    "print(df_pub_year.tail(2))\n",
    "print('-------------------------------------------')\n",
    "\n",
    "\n",
    "print(\"\\nDataframe de articulos con autores:\")\n",
    "df_pub_authors = msc.mining_pubs(\"AU\")\n",
    "print(df_pub_authors.head(2))\n",
    "print(df_pub_authors.tail(2))\n",
    "print('-------------------------------------------')\n",
    "\n",
    "\n",
    "print(\"\\nDataframe de número de articulos por pais:\")\n",
    "df_countries = msc.mining_pubs(\"AD\")\n",
    "print(df_countries.head(2))\n",
    "print(df_countries.tail(2))"
   ]
  },
  {
   "cell_type": "markdown",
   "metadata": {
    "jp-MarkdownHeadingCollapsed": true,
    "tags": []
   },
   "source": [
    "## Ejercicio 4 [2 puntos]\n",
    "\n",
    "Realice la visualización de los datos del ejercicio 3. \n",
    "\n",
    "* ```pubyear```: utilizando el conteo artículos por año, calcule la media y la desviación estandar (asumiendo que la distribución es normal). Realice un gráfico de la distribución normal de sus datos. Coloque el título, leyenda de los ejes \"x\" e \"y\", y la leyenda de la curva (utilice las expresiones matemáticas tipos latex de ser necesario). \n",
    "\n",
    "* ```pub_authors```: realice un boxplot del conteo de autores por artículo. Coloque las leyendas adecuadas para cada eje y el título.  \n",
    "\n",
    "* ```countries```: realice una nube de puntos (adaptación de su tarea), resalte al menos 3 países con flechas. Coloque las leyendas adecuadas para cada eje y el título. \n"
   ]
  },
  {
   "cell_type": "code",
   "execution_count": 58,
   "metadata": {},
   "outputs": [
    {
     "name": "stdout",
     "output_type": "stream",
     "text": [
      "DP_year    2019.0\n",
      "dtype: float64\n"
     ]
    },
    {
     "data": {
      "text/plain": [
       "Text(-3.74922, 40.463667, 'Spain')"
      ]
     },
     "execution_count": 58,
     "metadata": {},
     "output_type": "execute_result"
    },
    {
     "data": {
      "image/png": "[encoded data removed]",
      "text/plain": [
       "<Figure size 432x288 with 1 Axes>"
      ]
     },
     "metadata": {
      "needs_background": "light"
     },
     "output_type": "display_data"
    },
    {
     "data": {
      "image/png": "[encoded data removed]",
      "text/plain": [
       "<Figure size 432x288 with 1 Axes>"
      ]
     },
     "metadata": {
      "needs_background": "light"
     },
     "output_type": "display_data"
    },
    {
     "data": {
      "image/png": "[encoded data removed]",
      "text/plain": [
       "<Figure size 720x360 with 2 Axes>"
      ]
     },
     "metadata": {
      "needs_background": "light"
     },
     "output_type": "display_data"
    }
   ],
   "source": [
    "# En el ejercicio 4 se presenta el siguiente código\n",
    "import numpy as np\n",
    "import matplotlib.pyplot as plt\n",
    "import pandas as pd\n",
    "from scipy.stats import norm\n",
    "\n",
    "# df_pub_yer\n",
    "pun_year_median = df_pub_year.median(numeric_only=True)\n",
    "pub_year_standar_deviation = df_pub_year.std(numeric_only=True)\n",
    "\n",
    "\n",
    "x_axis = np.arange(2000, 2030, 1)\n",
    "\n",
    "fig1, ax1 = plt.subplots()\n",
    "\n",
    "label = \"Distribución Normal\"\n",
    "print(pun_year_median)\n",
    "ax1.plot(x_axis, norm.pdf(x_axis, pun_year_median[0], pub_year_standar_deviation[0]), label=label)\n",
    "ax1.set_title(\"Distribución normal de los años de publicación\")\n",
    "ax1.set_xlabel(\"Distribución\")\n",
    "ax1.set_ylabel(\"Años de publicación\")\n",
    "ax1.legend(loc = \"upper left\")\n",
    "\n",
    "\n",
    "\n",
    "\n",
    "# df_pub_authors\n",
    "\n",
    "df_pub_authors.drop(df_pub_authors[df_pub_authors['num_auth'] > 100].index, inplace=True) # Normalizamos los datos\n",
    "df_pub_authors.sort_values(by=\"num_auth\", ascending=False, inplace=True) # Ordenamos\n",
    "\n",
    "fig2, ax2 = plt.subplots()\n",
    "\n",
    "ax2.boxplot(df_pub_authors[\"num_auth\"])\n",
    "plt.title('Boxplot de autores por artículo en Ecuador genomics')\n",
    "plt.xlabel('Ecuador genomics')\n",
    "plt.ylabel('Conteo de autores')\n",
    "\n",
    "\n",
    "\n",
    "\n",
    "\n",
    "# df_countries\n",
    "\n",
    "# Leelos la latitud y longitud de los paises\n",
    "countries_lat_lon = pd.read_csv('./data/countries.csv', engine='python', skipfooter=3)\n",
    "\n",
    "countries_lat_lon['name'] = countries_lat_lon['name'].str.lower()\n",
    "countries_lat_lon = countries_lat_lon.rename(columns={'name': 'country_name'})\n",
    "\n",
    "#countries_lat_lon = countries_lat_lon[countries_lat_lon[\"name\"].isin(df_countries[\"country\"].to_list())]\n",
    "\n",
    "\n",
    "df_countries['country'] = df_countries['country'].str.lower()\n",
    "\n",
    "df_countries = df_countries.rename(columns={'country': 'country_name'})\n",
    "\n",
    "joined_data = pd.concat([df_countries, countries_lat_lon]).groupby(['country_name']).sum()\n",
    "\n",
    "joined_data = joined_data[joined_data['num_auth'].notna()]\n",
    "\n",
    "\n",
    "plt.figure(figsize=(10,5))\n",
    "plt.title('Nuve de puntos')\n",
    "plt.xlabel('Latitud')\n",
    "plt.ylabel('Longitud')\n",
    "\n",
    "\n",
    "plt.scatter(joined_data['longitude'], joined_data['latitude'], c=joined_data['latitude'], marker='o', label='Puntos')\n",
    "plt.colorbar()\n",
    "\n",
    "plt.annotate('Ecuador', xy= (joined_data.loc['ecuador']['longitude'], joined_data.loc['ecuador']['latitude']), arrowprops={'arrowstyle': '->'})\n",
    "plt.annotate('United States', xy= (joined_data.loc['united states']['longitude'], joined_data.loc['united states']['latitude']), arrowprops={'arrowstyle': '->'})\n",
    "plt.annotate('Spain', xy= (joined_data.loc['spain']['longitude'], joined_data.loc['spain']['latitude']), arrowprops={'arrowstyle': '->'})"
   ]
  },
  {
   "cell_type": "markdown",
   "metadata": {},
   "source": [
    "## Ejercicio 5 [1 punto]\n",
    "\n",
    "Interprete los resultados del **ejercicio 4**"
   ]
  },
  {
   "cell_type": "markdown",
   "metadata": {},
   "source": [
    "En los resultados del ejercicio 4"
   ]
  },
  {
   "cell_type": "markdown",
   "metadata": {},
   "source": [
    "## Ejercicio 6 [2 puntos]\n",
    "\n",
    "Para algún gen de interés, realice lo siguiente: \n",
    "\n",
    "1. Una búsqueda en la página del [NCBI nucleotide](https://www.ncbi.nlm.nih.gov/nucleotide/).\n",
    "\n",
    "2. Descargue el ```Accession List``` de su búsqueda.\n",
    "\n",
    "3. Cargue el ```Accession List``` en este notebook y haga una descarga de la data tipo ```genbank``` utilizando los diez primeros IDs de accesión. \n",
    "\n",
    "4. Arme un árbol filogenético para los resultados del paso 3.\n",
    "\n",
    "5. Interprete el árbol del paso 4. "
   ]
  },
  {
   "cell_type": "code",
   "execution_count": 5,
   "metadata": {},
   "outputs": [
    {
     "name": "stdout",
     "output_type": "stream",
     "text": [
      "<_io.TextIOWrapper encoding='UTF-8'>\n",
      "AH005464.2 Heloderma suspectum 12S ribosomal RNA genes, partial sequence; mitochondrial...\n",
      "Sequence length 758, 5 features, from: mitochondrion Heloderma suspectum (Gila monster)\n",
      "KP972457.1 Heloderma suspectum haplotype HESU_12S_Hap03 tRNA-Phe gene, partial sequence; 12S ribosomal RNA and ...\n",
      "Sequence length 1195, 5 features, from: mitochondrion Heloderma suspectum (Gila monster)\n",
      "KP972456.1 Heloderma suspectum haplotype HESU_12S_Hap02 tRNA-Phe gene, partial sequence; 12S ribosomal RNA and ...\n",
      "Sequence length 1195, 5 features, from: mitochondrion Heloderma suspectum (Gila monster)\n",
      "KP972455.1 Heloderma suspectum haplotype HESU_12S_Hap01 tRNA-Phe gene, partial sequence; 12S ribosomal RNA and ...\n",
      "Sequence length 1195, 5 features, from: mitochondrion Heloderma suspectum (Gila monster)\n",
      "KJ917183.1 Heloderma suspectum haplotype 02 cytochrome c oxidase subunit I (COI) gene, partial cds; mitochondri...\n",
      "Sequence length 658, 3 features, from: mitochondrion Heloderma suspectum (Gila monster)\n",
      "KJ917182.1 Heloderma suspectum haplotype 01 cytochrome c oxidase subunit I (COI) gene, partial cds; mitochondri...\n",
      "Sequence length 658, 3 features, from: mitochondrion Heloderma suspectum (Gila monster)\n",
      "KJ917181.1 Heloderma suspectum haplotype 01 ATP synthase F0 subunit 8 (ATP8) gene, complete cds; mitochondrial...\n",
      "Sequence length 165, 3 features, from: mitochondrion Heloderma suspectum (Gila monster)\n",
      "KJ917180.1 Heloderma suspectum haplotype 02 ATP synthase F0 subunit 6 (ATP6) gene, complete cds; mitochondrial...\n",
      "Sequence length 683, 3 features, from: mitochondrion Heloderma suspectum (Gila monster)\n",
      "KJ917179.1 Heloderma suspectum haplotype 01 ATP synthase F0 subunit 6 (ATP6) gene, complete cds; mitochondrial...\n",
      "Sequence length 683, 3 features, from: mitochondrion Heloderma suspectum (Gila monster)\n",
      "KC967646.1 Heloderma suspectum microsatellite HESU018 sequence...\n",
      "Sequence length 288, 2 features, from: Heloderma suspectum (Gila monster)\n"
     ]
    }
   ],
   "source": [
    "# Escriba aquí su código para el ejercicio 6\n",
    "from Bio import Entrez\n",
    "from Bio import SeqIO\n",
    "from Bio import AlignIO\n",
    "from Bio import Phylo\n",
    "from Bio.Align.Applications import ClustalwCommandline\n",
    "import os\n",
    "\n",
    "\n",
    "with open(\"./data/sequence.seq\") as s:#llamo a la base de datos donde estan las IDs\n",
    "    Entrez.email = \"leonardo.proano@est.ikiam.edu.ec\" \n",
    "    handle = Entrez.efetch(db=\"nucleotide\", rettype=\"gb\", retmode=\"text\", id=\"AH005464.2, KP972457.1, KP972456.1, KP972455.1, KJ917183.1, KJ917182.1, KJ917181.1, KJ917180.1, KJ917179.1, KC967646.1\")\n",
    "print(handle)\n",
    "for seq_record in SeqIO.parse(handle, \"gb\"): \n",
    "            print(\"%s %s...\" % (seq_record.id, seq_record.description[:100])) \n",
    "            print( \"Sequence length %i, %i features, from: %s\" % ( len(seq_record), \n",
    "                                                                  len(seq_record.features), \n",
    "                                                                  seq_record.annotations[\"source\"], ) )\n",
    "\n",
    "#Cargar data multiple y hacer los alineamientos\\n\n",
    "clustalw_exe = r\"C:\\Program Files (x86)\\ClustalW2\\clustalw2.exe\"\n",
    "clustalw_cline = ClustalwCommandline(clustalw_exe, infile = \"./data/sequence.fasta\")\n",
    "assert os.path.isfile(clustalw_exe), \"Clustal_W executable is missing or not found\"\n",
    "stdout, stderr = clustalw_cline()\n",
    "print(clustalw_cline)\n",
    "\n",
    "ClustalAlign = AlignIO.read(\"data/sequence.aln\", \"clustal\")#nucleotidos parecidos entre las especies identificadas por IDs\n",
    "print(ClustalAlign)\n",
    "\n",
    "#CREACION del dendograma por clados de la filogenia de cada sepa del monstruo de Gila (Heloderma suspectum)\n",
    "tree = Phylo.read(\"data/sequence.dnd\", \"newick\")\n",
    "Phylo.draw_ascii(tree)"
   ]
  },
  {
   "cell_type": "markdown",
   "metadata": {},
   "source": [
    "**Escriba aquí la interpretación del árbol**"
   ]
  },
  {
   "cell_type": "markdown",
   "metadata": {},
   "source": [
    "## Ejercicio 7 [1 punto]\n",
    "\n",
    "\n",
    "1. Cree en GitHub un repositorio de nombre ```GBI6_ExamenPython```. \n",
    "2. Cree un archivo ```Readme.md``` que debe tener lo siguiente: \n",
    "- Datos personales\n",
    "- Características del computador\n",
    "- Versión de Python/Anaconda y de cada uno de los módulos/paquetes y utilizados\n",
    "- Explicación de la data utilizada\n",
    "\n",
    "3. Cree un directorio de nombre ```data``` donde deben estar guardado la data utilizada \n",
    "4. Realice al menos 1 control de la versión (commits) por cada ejercicio (del 1 al 6), con un mensaje que inicie como: \n",
    "\n",
    "```sh \n",
    "Carlitos Alimaña ha realizado .....  \n",
    "```"
   ]
  }
 ],
 "metadata": {
  "kernelspec": {
   "display_name": "Python 3 (ipykernel)",
   "language": "python",
   "name": "python3"
  },
  "language_info": {
   "codemirror_mode": {
    "name": "ipython",
    "version": 3
   },
   "file_extension": ".py",
   "mimetype": "text/x-python",
   "name": "python",
   "nbconvert_exporter": "python",
   "pygments_lexer": "ipython3",
   "version": "3.9.7"
  },
  "latex_envs": {
   "LaTeX_envs_menu_present": true,
   "autoclose": false,
   "autocomplete": true,
   "bibliofile": "biblio.bib",
   "cite_by": "apalike",
   "current_citInitial": 1,
   "eqLabelWithNumbers": true,
   "eqNumInitial": 1,
   "hotkeys": {
    "equation": "Ctrl-E",
    "itemize": "Ctrl-I"
   },
   "labels_anchors": false,
   "latex_user_defs": false,
   "report_style_numbering": false,
   "user_envs_cfg": false
  },
  "toc": {
   "base_numbering": 1,
   "nav_menu": {},
   "number_sections": true,
   "sideBar": false,
   "skip_h1_title": false,
   "title_cell": "Table of Contents",
   "title_sidebar": "Contents",
   "toc_cell": false,
   "toc_position": {
    "height": "1152.67px",
    "left": "41px",
    "top": "110px",
    "width": "253.458px"
   },
   "toc_section_display": true,
   "toc_window_display": false
  },
  "varInspector": {
   "cols": {
    "lenName": 16,
    "lenType": 16,
    "lenVar": 40
   },
   "kernels_config": {
    "python": {
     "delete_cmd_postfix": "",
     "delete_cmd_prefix": "del ",
     "library": "var_list.py",
     "varRefreshCmd": "print(var_dic_list())"
    },
    "r": {
     "delete_cmd_postfix": ") ",
     "delete_cmd_prefix": "rm(",
     "library": "var_list.r",
     "varRefreshCmd": "cat(var_dic_list()) "
    }
   },
   "types_to_exclude": [
    "module",
    "function",
    "builtin_function_or_method",
    "instance",
    "_Feature"
   ],
   "window_display": false
  }
 },
 "nbformat": 4,
 "nbformat_minor": 4
}
